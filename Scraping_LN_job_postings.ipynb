{
  "nbformat": 4,
  "nbformat_minor": 0,
  "metadata": {
    "colab": {
      "provenance": []
    },
    "kernelspec": {
      "name": "python3",
      "display_name": "Python 3"
    },
    "language_info": {
      "name": "python"
    }
  },
  "cells": [
    {
      "cell_type": "code",
      "source": [
        "# url = \"\"\n",
        "# r = requests.get(url)\n",
        "# soup = BeautifulSoup(r.text, \"html.parser\")\n",
        "\n",
        "# league_table = soup.find(\"table\", class_ = \"ftbl__competition-ranking\")\n",
        "\n",
        "# teams = []\n",
        "# points = []\n",
        "# match_played = []\n",
        "# trends = []\n",
        "\n",
        "# for team in league_table.find_all(\"tbody\"):\n",
        "#   rows = team.find_all(\"tr\")\n",
        "#   for row in rows:\n",
        "#     a_teams = row.find(\"td\", class_ = \"ftbl__competition-ranking__body-cell ftbl__competition-ranking__body-cell--team \").text\n",
        "#     teams.append(a_teams)\n",
        "#     a_points = row.find(\"td\", class_ = \"ftbl__competition-ranking__body-cell ftbl__competition-ranking__body-cell--points \").text\n",
        "#     points.append(a_points)\n",
        "#     a_match_played = row.find(\"td\", class_ = \"ftbl__competition-ranking__body-cell ftbl__competition-ranking__body-cell--mobile-show \").text\n",
        "#     match_played.append(a_match_played)\n",
        "#     a_trends = row.find(\"td\", class_ = \"ftbl__competition-ranking__body-cell ftbl__competition-ranking__body-cell--last-matches-trend \").text"
      ],
      "metadata": {
        "id": "-H2sPcMgRpew"
      },
      "execution_count": null,
      "outputs": []
    },
    {
      "cell_type": "code",
      "source": [
        "pip install selenium"
      ],
      "metadata": {
        "id": "H7S3Yq3TbONs"
      },
      "execution_count": null,
      "outputs": []
    },
    {
      "cell_type": "code",
      "source": [
        "pip install beautifulsoup4"
      ],
      "metadata": {
        "id": "diymvA9dQiFg"
      },
      "execution_count": null,
      "outputs": []
    },
    {
      "cell_type": "code",
      "source": [
        "pip install time "
      ],
      "metadata": {
        "colab": {
          "base_uri": "https://localhost:8080/"
        },
        "id": "iOu6a8oWTqZs",
        "outputId": "a30cdedb-bf17-4ee7-a01e-3b41725d6d33"
      },
      "execution_count": null,
      "outputs": [
        {
          "output_type": "stream",
          "name": "stdout",
          "text": [
            "Looking in indexes: https://pypi.org/simple, https://us-python.pkg.dev/colab-wheels/public/simple/\n",
            "\u001b[31mERROR: Could not find a version that satisfies the requirement time (from versions: none)\u001b[0m\n",
            "\u001b[31mERROR: No matching distribution found for time\u001b[0m\n"
          ]
        }
      ]
    },
    {
      "cell_type": "code",
      "source": [
        "import time\n",
        "import selenium\n",
        "from selenium import webdriver\n",
        "from selenium.webdriver.common.by import By\n",
        "from selenium.webdriver.support.ui import WebDriverWait\n",
        "from selenium.webdriver.support import expected_conditions as EC\n",
        "from selenium.webdriver.common.keys import Keys"
      ],
      "metadata": {
        "id": "8OUIUmlGWO3N"
      },
      "execution_count": null,
      "outputs": []
    },
    {
      "cell_type": "code",
      "source": [
        "# importing libraries\n",
        "from selenium import webdriver\n",
        "import time\n",
        "from selenium.webdriver.common.keys import Keys\n",
        "from selenium.webdriver.common.by import By\n",
        "from bs4 import BeautifulSoup\n",
        "import pandas as pd\n",
        "# importing libraries to plot the wordcloud\n",
        "from wordcloud import WordCloud, STOPWORDS\n",
        "import matplotlib.pyplot as plt\n",
        "\n",
        "\n",
        "# Variables\n",
        "# Linkedin ID and PASSWORD\n",
        "email = \"email@email.com\"\n",
        "password = \"topsecret123\"\n",
        "\n",
        "# Write here the job position and local for search\n",
        "position = \"data scientist\"\n",
        "local = \"italy\"\n",
        "\n",
        "# example below:\n",
        "## position = \"data scientist\"\n",
        "## local = \"brazil\"\n",
        "\n",
        "# formating to linkedin model\n",
        "position = position.replace(' ', \"%20\")\n",
        "\n",
        "\n",
        "\n",
        "\n",
        "# Open browser\n",
        "driver_path = \"/content/chromedriver.exe\"\n",
        "driver = webdriver.Chrome(driver_path)\n",
        "# Maximizing browser window to avoid hidden elements\n",
        "driver.set_window_size(1024, 600)\n",
        "driver.maximize_window()\n",
        "\n",
        "# Opening linkedin website\n",
        "driver.get('https://www.linkedin.com/login')\n",
        "# waiting load\n",
        "time.sleep(2)\n",
        "\n",
        "# Search for login and password inputs, send credentions\n",
        "driver.find_element(By.ID,'username').send_keys(email)\n",
        "driver.find_element(By.ID,'password').send_keys(password)\n",
        "driver.find_element(By.ID,'password').send_keys(Keys.RETURN)\n",
        "\n",
        "# Opening jobs webpage\n",
        "driver.get(\n",
        "    f\"https://www.linkedin.com/jobs/search/?currentJobId=2662929045&geoId=106057199&keywords={position}&location={local}\")\n",
        "# waiting load\n",
        "time.sleep(2)\n",
        "\n",
        "\n",
        "# creating a list where the descriptions will be stored\n",
        "disc_list = []\n",
        "\n",
        "for i in range(1, 41):\n",
        "    # click button to change the job list\n",
        "    driver.find_element(By.XPATH, f'//button[@aria-label=\"Page {i}\"]').click()\n",
        "    time.sleep(2)\n",
        "    \n",
        "    \n",
        "    \n",
        "    # each page show us some jobs, sometimes show 25, others 13 or 21 ¯\\_(ツ)_/¯\n",
        "    jobs_lists = driver.find_element(By.CLASS_NAME,\n",
        "        'scaffold-layout__list-container')  # here we create a list with jobs\n",
        "    \n",
        "    jobs = jobs_lists.find_elements(By.CLASS_NAME,\n",
        "        'jobs-search-results__list-item')  # here we select each job to count\n",
        "    \n",
        "    # waiting load\n",
        "    time.sleep(2)\n",
        "    # the loop below is for the algorithm to click exactly on the number of jobs that is showing in list\n",
        "    # in order to avoid errors that will stop the automation\n",
        "    \n",
        "    for job in range(1, len(jobs)+1):\n",
        "        # job click\n",
        "        driver.find_element(By.XPATH, \n",
        "            f'/html/body/div[4]/div[3]/div[4]/div/div/main/div/section[1]/div/ul/li[{job}]').click()\n",
        "        # waiting load\n",
        "        time.sleep(1)\n",
        "        # select job description\n",
        "        job_desc = driver.find_element(By.CLASS_NAME, f'jobs-description__container.m4')\n",
        "        # get text\n",
        "        soup = BeautifulSoup(job_desc.get_attribute(\n",
        "            'outerHTML'), 'html.parser')\n",
        "        # add text to list\n",
        "        disc_list.append(soup.text)\n",
        "\n",
        "\n",
        "# Creating a Dataframe with list\n",
        "df = pd.DataFrame(disc_list)\n",
        "\n",
        "# deleting useless words\n",
        "df = df.replace(['\\n',\n",
        "                 '^.*?Expect',\n",
        "                 '^.*?Qualifications',\n",
        "                 '^.*?Required',\n",
        "                 '^.*?expected',\n",
        "                 '^.*?Responsibilities',\n",
        "                 '^.*?Requisitos',\n",
        "                 '^.*?Requirements',\n",
        "                 '^.*?Qualificações',\n",
        "                 '^.*?QualificationsRequired1',\n",
        "                 '^.*?você deve ter:',\n",
        "                 '^.*?experiência',\n",
        "                 '^.*?você:',\n",
        "                 '^.*?Desejável',\n",
        "                 '^.*?great',\n",
        "                 '^.*?Looking For',\n",
        "                 '^.*?ll Need',\n",
        "                 '^.*?Conhecimento',\n",
        "                 '^.*?se:',\n",
        "                 '^.*?habilidades',\n",
        "                 '^.*?se:',\n",
        "                 '^.*?REQUISITOS'\n",
        "                 ], '', regex=True)\n",
        "\n",
        "\n",
        "# setup wordcloud\n",
        "stopwords = set(STOPWORDS)\n",
        "# selecting useless words\n",
        "badwords = {'gender', 'experience', 'application', 'Apply', 'salary', 'todos', 'os', 'company', 'identity', 'sexual', 'orientation',\n",
        "            'de', 'orientação', 'sexual', 'gênero', 'committed', 'toda', 'client', 'conhecimento',\n",
        "            'world', 'year', 'save', 'São', 'Paulo', 'information', 'e', 'orientação', 'sexual', 'equal', 'oppotunity', 'ambiente', 'will',\n",
        "            'Experiência', 'national origin', 'todas', 'work', 'de', 'da', 'years', 'pessoa', 'clients', 'Plano', 'creating',\n",
        "            'employer', 'saúde', 'em', 'working', 'pessoas', 'mais', 'data', 'people', 'dia', 'one', 'knowledges', 'plataforma',\n",
        "            'ou', 'benefício', 'para', 'software', 'opportunity', 'tecnologia', 'você', 'mais', 'solution', 'national', 'origin',\n",
        "            'trabalhar', 'option', 'negócio', 'empresa', 'o', 'sicence', 'team', 'é', 'veteran', 'status', 'etc', 'raça', 'cor', 'belive',\n",
        "            'nossa', 'uma', 'como', 'Scientist', 'ferramenta', 'projeto', 'que', 'job', 'benefícios', 'knowledge', 'toll', 's', 'modelo',\n",
        "            'desconto', 'cultura', 'serviço', 'time', 'se', 'solutions', 'mercado', 'das', 'somos', 'problema', 'mundo', 'race', 'color',\n",
        "            'vaga', 'pelo', 'ser', 'show', 'Seguro', 'Se', 'um', 'Um', 'tool', 'regard', 'without', 'make', 'ao', 'técnica', 'life',\n",
        "            'interested', 'diversidade', 'proud', 'ability', 'sobre', 'options', 'using', 'área', 'nosso', 'na', 'seu', 'product', 'produto',\n",
        "            'building', 'skill', 'model', 'religion', 'Share', 'receive', 'consideration', 'Aqui', 'vida', 'ferramentas', 'Vale', 'Refeição',\n",
        "            'Strong', 'Pay', 'range', 'available', 'part', 'trabalho', 'Alimentação', 'employment', 'qualified', 'applicants', 'gympass',\n",
        "            'está', 'comprometida', 'forma', 'Transporte', 'Yes', 'gente', 'melhor', 'lugar', 'believe', 'moment', 'próximo', 'deasafio',\n",
        "            'dos', 'oportunidade', 'idade', 'new', 'Try', 'Premium', 'deficiência', 'sempre', 'criar', 'employee', 'problemas', 'unavailable',\n",
        "            'Brasil', 'dado', 'hiring', 'trends', 'equipe', 'recent', 'temos', 'build', 'career', 'nós', 'diferencial', 'ma',\n",
        "            'total', 'oferecemos', 'contato', 'tem', 'não', 'free', 'Full'}\n",
        "\n",
        "# deleting the useless words on plot\n",
        "stopwords.update(badwords)\n",
        "\n",
        "# plot parameters\n",
        "wordcloud = WordCloud(background_color='black',\n",
        "                      stopwords=stopwords,\n",
        "                      max_words=100,\n",
        "                      max_font_size=50,\n",
        "                      random_state=42).generate(\"\".join(df[0]))\n",
        "\n",
        "# Plot\n",
        "print(wordcloud)\n",
        "plt.figure(figsize=(10, 5))\n",
        "fig = plt.figure(1)\n",
        "plt.imshow(wordcloud)\n",
        "plt.axis('off')\n",
        "plt.show()\n",
        "\n",
        "# exporting our dataframe to a csv file\n",
        "df.to_csv('wordcloud-job.csv', sep=';')"
      ],
      "metadata": {
        "colab": {
          "base_uri": "https://localhost:8080/",
          "height": 415
        },
        "id": "o_K6IYzGVzdh",
        "outputId": "96deb58c-1b14-4942-c88f-9cf712bf3890"
      },
      "execution_count": 4,
      "outputs": [
        {
          "output_type": "stream",
          "name": "stderr",
          "text": [
            "<ipython-input-4-44691a73443d>:34: DeprecationWarning: executable_path has been deprecated, please pass in a Service object\n",
            "  driver = webdriver.Chrome(driver_path)\n"
          ]
        },
        {
          "output_type": "error",
          "ename": "AttributeError",
          "evalue": "ignored",
          "traceback": [
            "\u001b[0;31m---------------------------------------------------------------------------\u001b[0m",
            "\u001b[0;31mAttributeError\u001b[0m                            Traceback (most recent call last)",
            "\u001b[0;32m<ipython-input-4-44691a73443d>\u001b[0m in \u001b[0;36m<module>\u001b[0;34m\u001b[0m\n\u001b[1;32m     32\u001b[0m \u001b[0;31m# Open browser\u001b[0m\u001b[0;34m\u001b[0m\u001b[0;34m\u001b[0m\u001b[0;34m\u001b[0m\u001b[0m\n\u001b[1;32m     33\u001b[0m \u001b[0mdriver_path\u001b[0m \u001b[0;34m=\u001b[0m \u001b[0;34m\"/content/chromedriver.exe\"\u001b[0m\u001b[0;34m\u001b[0m\u001b[0;34m\u001b[0m\u001b[0m\n\u001b[0;32m---> 34\u001b[0;31m \u001b[0mdriver\u001b[0m \u001b[0;34m=\u001b[0m \u001b[0mwebdriver\u001b[0m\u001b[0;34m.\u001b[0m\u001b[0mChrome\u001b[0m\u001b[0;34m(\u001b[0m\u001b[0mdriver_path\u001b[0m\u001b[0;34m)\u001b[0m\u001b[0;34m\u001b[0m\u001b[0;34m\u001b[0m\u001b[0m\n\u001b[0m\u001b[1;32m     35\u001b[0m \u001b[0;31m# Maximizing browser window to avoid hidden elements\u001b[0m\u001b[0;34m\u001b[0m\u001b[0;34m\u001b[0m\u001b[0;34m\u001b[0m\u001b[0m\n\u001b[1;32m     36\u001b[0m \u001b[0mdriver\u001b[0m\u001b[0;34m.\u001b[0m\u001b[0mset_window_size\u001b[0m\u001b[0;34m(\u001b[0m\u001b[0;36m1024\u001b[0m\u001b[0;34m,\u001b[0m \u001b[0;36m600\u001b[0m\u001b[0;34m)\u001b[0m\u001b[0;34m\u001b[0m\u001b[0;34m\u001b[0m\u001b[0m\n",
            "\u001b[0;32m/usr/local/lib/python3.8/dist-packages/selenium/webdriver/chrome/webdriver.py\u001b[0m in \u001b[0;36m__init__\u001b[0;34m(self, executable_path, port, options, service_args, desired_capabilities, service_log_path, chrome_options, service, keep_alive)\u001b[0m\n\u001b[1;32m     79\u001b[0m             \u001b[0mservice\u001b[0m \u001b[0;34m=\u001b[0m \u001b[0mService\u001b[0m\u001b[0;34m(\u001b[0m\u001b[0mexecutable_path\u001b[0m\u001b[0;34m,\u001b[0m \u001b[0mport\u001b[0m\u001b[0;34m,\u001b[0m \u001b[0mservice_args\u001b[0m\u001b[0;34m,\u001b[0m \u001b[0mservice_log_path\u001b[0m\u001b[0;34m)\u001b[0m\u001b[0;34m\u001b[0m\u001b[0;34m\u001b[0m\u001b[0m\n\u001b[1;32m     80\u001b[0m \u001b[0;34m\u001b[0m\u001b[0m\n\u001b[0;32m---> 81\u001b[0;31m         super().__init__(\n\u001b[0m\u001b[1;32m     82\u001b[0m             \u001b[0mDesiredCapabilities\u001b[0m\u001b[0;34m.\u001b[0m\u001b[0mCHROME\u001b[0m\u001b[0;34m[\u001b[0m\u001b[0;34m\"browserName\"\u001b[0m\u001b[0;34m]\u001b[0m\u001b[0;34m,\u001b[0m\u001b[0;34m\u001b[0m\u001b[0;34m\u001b[0m\u001b[0m\n\u001b[1;32m     83\u001b[0m             \u001b[0;34m\"goog\"\u001b[0m\u001b[0;34m,\u001b[0m\u001b[0;34m\u001b[0m\u001b[0;34m\u001b[0m\u001b[0m\n",
            "\u001b[0;32m/usr/local/lib/python3.8/dist-packages/selenium/webdriver/chromium/webdriver.py\u001b[0m in \u001b[0;36m__init__\u001b[0;34m(self, browser_name, vendor_prefix, port, options, service_args, desired_capabilities, service_log_path, service, keep_alive)\u001b[0m\n\u001b[1;32m    101\u001b[0m \u001b[0;34m\u001b[0m\u001b[0m\n\u001b[1;32m    102\u001b[0m         \u001b[0mself\u001b[0m\u001b[0;34m.\u001b[0m\u001b[0mservice\u001b[0m \u001b[0;34m=\u001b[0m \u001b[0mservice\u001b[0m\u001b[0;34m\u001b[0m\u001b[0;34m\u001b[0m\u001b[0m\n\u001b[0;32m--> 103\u001b[0;31m         \u001b[0mself\u001b[0m\u001b[0;34m.\u001b[0m\u001b[0mservice\u001b[0m\u001b[0;34m.\u001b[0m\u001b[0mstart\u001b[0m\u001b[0;34m(\u001b[0m\u001b[0;34m)\u001b[0m\u001b[0;34m\u001b[0m\u001b[0;34m\u001b[0m\u001b[0m\n\u001b[0m\u001b[1;32m    104\u001b[0m \u001b[0;34m\u001b[0m\u001b[0m\n\u001b[1;32m    105\u001b[0m         \u001b[0;32mtry\u001b[0m\u001b[0;34m:\u001b[0m\u001b[0;34m\u001b[0m\u001b[0;34m\u001b[0m\u001b[0m\n",
            "\u001b[0;32m/usr/local/lib/python3.8/dist-packages/selenium/webdriver/common/service.py\u001b[0m in \u001b[0;36mstart\u001b[0;34m(self)\u001b[0m\n\u001b[1;32m    104\u001b[0m         \u001b[0mcount\u001b[0m \u001b[0;34m=\u001b[0m \u001b[0;36m0\u001b[0m\u001b[0;34m\u001b[0m\u001b[0;34m\u001b[0m\u001b[0m\n\u001b[1;32m    105\u001b[0m         \u001b[0;32mwhile\u001b[0m \u001b[0;32mTrue\u001b[0m\u001b[0;34m:\u001b[0m\u001b[0;34m\u001b[0m\u001b[0;34m\u001b[0m\u001b[0m\n\u001b[0;32m--> 106\u001b[0;31m             \u001b[0mself\u001b[0m\u001b[0;34m.\u001b[0m\u001b[0massert_process_still_running\u001b[0m\u001b[0;34m(\u001b[0m\u001b[0;34m)\u001b[0m\u001b[0;34m\u001b[0m\u001b[0;34m\u001b[0m\u001b[0m\n\u001b[0m\u001b[1;32m    107\u001b[0m             \u001b[0;32mif\u001b[0m \u001b[0mself\u001b[0m\u001b[0;34m.\u001b[0m\u001b[0mis_connectable\u001b[0m\u001b[0;34m(\u001b[0m\u001b[0;34m)\u001b[0m\u001b[0;34m:\u001b[0m\u001b[0;34m\u001b[0m\u001b[0;34m\u001b[0m\u001b[0m\n\u001b[1;32m    108\u001b[0m                 \u001b[0;32mbreak\u001b[0m\u001b[0;34m\u001b[0m\u001b[0;34m\u001b[0m\u001b[0m\n",
            "\u001b[0;32m/usr/local/lib/python3.8/dist-packages/selenium/webdriver/common/service.py\u001b[0m in \u001b[0;36massert_process_still_running\u001b[0;34m(self)\u001b[0m\n\u001b[1;32m    115\u001b[0m     \u001b[0;32mdef\u001b[0m \u001b[0massert_process_still_running\u001b[0m\u001b[0;34m(\u001b[0m\u001b[0mself\u001b[0m\u001b[0;34m)\u001b[0m \u001b[0;34m->\u001b[0m \u001b[0;32mNone\u001b[0m\u001b[0;34m:\u001b[0m\u001b[0;34m\u001b[0m\u001b[0;34m\u001b[0m\u001b[0m\n\u001b[1;32m    116\u001b[0m         \u001b[0;34m\"\"\"Check if the underlying process is still running.\"\"\"\u001b[0m\u001b[0;34m\u001b[0m\u001b[0;34m\u001b[0m\u001b[0m\n\u001b[0;32m--> 117\u001b[0;31m         \u001b[0mreturn_code\u001b[0m \u001b[0;34m=\u001b[0m \u001b[0mself\u001b[0m\u001b[0;34m.\u001b[0m\u001b[0mprocess\u001b[0m\u001b[0;34m.\u001b[0m\u001b[0mpoll\u001b[0m\u001b[0;34m(\u001b[0m\u001b[0;34m)\u001b[0m\u001b[0;34m\u001b[0m\u001b[0;34m\u001b[0m\u001b[0m\n\u001b[0m\u001b[1;32m    118\u001b[0m         \u001b[0;32mif\u001b[0m \u001b[0mreturn_code\u001b[0m\u001b[0;34m:\u001b[0m\u001b[0;34m\u001b[0m\u001b[0;34m\u001b[0m\u001b[0m\n\u001b[1;32m    119\u001b[0m             \u001b[0;32mraise\u001b[0m \u001b[0mWebDriverException\u001b[0m\u001b[0;34m(\u001b[0m\u001b[0;34mf\"Service {self.path} unexpectedly exited. Status code was: {return_code}\"\u001b[0m\u001b[0;34m)\u001b[0m\u001b[0;34m\u001b[0m\u001b[0;34m\u001b[0m\u001b[0m\n",
            "\u001b[0;31mAttributeError\u001b[0m: 'Service' object has no attribute 'process'"
          ]
        }
      ]
    }
  ]
}